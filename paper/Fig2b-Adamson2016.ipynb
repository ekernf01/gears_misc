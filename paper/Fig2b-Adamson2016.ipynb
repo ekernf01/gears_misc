{
 "cells": [
  {
   "cell_type": "code",
   "execution_count": 2,
   "id": "70961cf4",
   "metadata": {},
   "outputs": [
    {
     "ename": "ValueError",
     "evalue": "Could not find project pert_gnn_simulation_adamson2016",
     "output_type": "error",
     "traceback": [
      "\u001b[0;31m---------------------------------------------------------------------------\u001b[0m",
      "\u001b[0;31mValueError\u001b[0m                                Traceback (most recent call last)",
      "Cell \u001b[0;32mIn[2], line 27\u001b[0m\n\u001b[1;32m     24\u001b[0m runs \u001b[39m=\u001b[39m api\u001b[39m.\u001b[39mruns(\u001b[39m\"\u001b[39m\u001b[39mkexinhuang/pert_gnn_simulation_\u001b[39m\u001b[39m\"\u001b[39m \u001b[39m+\u001b[39m data_name)\n\u001b[1;32m     26\u001b[0m summary_list, config_list, name_list \u001b[39m=\u001b[39m [], [], []\n\u001b[0;32m---> 27\u001b[0m \u001b[39mfor\u001b[39;00m run \u001b[39min\u001b[39;00m runs: \n\u001b[1;32m     28\u001b[0m     \u001b[39m# .summary contains the output keys/values for metrics like accuracy.\u001b[39;00m\n\u001b[1;32m     29\u001b[0m     \u001b[39m#  We call ._json_dict to omit large files \u001b[39;00m\n\u001b[1;32m     30\u001b[0m     summary_list\u001b[39m.\u001b[39mappend(run\u001b[39m.\u001b[39msummary\u001b[39m.\u001b[39m_json_dict)\n\u001b[1;32m     32\u001b[0m     \u001b[39m# .config contains the hyperparameters.\u001b[39;00m\n\u001b[1;32m     33\u001b[0m     \u001b[39m#  We remove special values that start with _.\u001b[39;00m\n",
      "File \u001b[0;32m~/mambaforge/envs/gears_reproduction/lib/python3.9/site-packages/wandb/apis/public.py:1076\u001b[0m, in \u001b[0;36mPaginator.__next__\u001b[0;34m(self)\u001b[0m\n\u001b[1;32m   1074\u001b[0m \u001b[39mself\u001b[39m\u001b[39m.\u001b[39mindex \u001b[39m+\u001b[39m\u001b[39m=\u001b[39m \u001b[39m1\u001b[39m\n\u001b[1;32m   1075\u001b[0m \u001b[39mif\u001b[39;00m \u001b[39mlen\u001b[39m(\u001b[39mself\u001b[39m\u001b[39m.\u001b[39mobjects) \u001b[39m<\u001b[39m\u001b[39m=\u001b[39m \u001b[39mself\u001b[39m\u001b[39m.\u001b[39mindex:\n\u001b[0;32m-> 1076\u001b[0m     \u001b[39mif\u001b[39;00m \u001b[39mnot\u001b[39;00m \u001b[39mself\u001b[39;49m\u001b[39m.\u001b[39;49m_load_page():\n\u001b[1;32m   1077\u001b[0m         \u001b[39mraise\u001b[39;00m \u001b[39mStopIteration\u001b[39;00m\n\u001b[1;32m   1078\u001b[0m     \u001b[39mif\u001b[39;00m \u001b[39mlen\u001b[39m(\u001b[39mself\u001b[39m\u001b[39m.\u001b[39mobjects) \u001b[39m<\u001b[39m\u001b[39m=\u001b[39m \u001b[39mself\u001b[39m\u001b[39m.\u001b[39mindex:\n",
      "File \u001b[0;32m~/mambaforge/envs/gears_reproduction/lib/python3.9/site-packages/wandb/apis/public.py:1063\u001b[0m, in \u001b[0;36mPaginator._load_page\u001b[0;34m(self)\u001b[0m\n\u001b[1;32m   1059\u001b[0m \u001b[39mself\u001b[39m\u001b[39m.\u001b[39mupdate_variables()\n\u001b[1;32m   1060\u001b[0m \u001b[39mself\u001b[39m\u001b[39m.\u001b[39mlast_response \u001b[39m=\u001b[39m \u001b[39mself\u001b[39m\u001b[39m.\u001b[39mclient\u001b[39m.\u001b[39mexecute(\n\u001b[1;32m   1061\u001b[0m     \u001b[39mself\u001b[39m\u001b[39m.\u001b[39mQUERY, variable_values\u001b[39m=\u001b[39m\u001b[39mself\u001b[39m\u001b[39m.\u001b[39mvariables\n\u001b[1;32m   1062\u001b[0m )\n\u001b[0;32m-> 1063\u001b[0m \u001b[39mself\u001b[39m\u001b[39m.\u001b[39mobjects\u001b[39m.\u001b[39mextend(\u001b[39mself\u001b[39;49m\u001b[39m.\u001b[39;49mconvert_objects())\n\u001b[1;32m   1064\u001b[0m \u001b[39mreturn\u001b[39;00m \u001b[39mTrue\u001b[39;00m\n",
      "File \u001b[0;32m~/mambaforge/envs/gears_reproduction/lib/python3.9/site-packages/wandb/apis/public.py:1630\u001b[0m, in \u001b[0;36mRuns.convert_objects\u001b[0;34m(self)\u001b[0m\n\u001b[1;32m   1628\u001b[0m objs \u001b[39m=\u001b[39m []\n\u001b[1;32m   1629\u001b[0m \u001b[39mif\u001b[39;00m \u001b[39mself\u001b[39m\u001b[39m.\u001b[39mlast_response \u001b[39mis\u001b[39;00m \u001b[39mNone\u001b[39;00m \u001b[39mor\u001b[39;00m \u001b[39mself\u001b[39m\u001b[39m.\u001b[39mlast_response\u001b[39m.\u001b[39mget(\u001b[39m\"\u001b[39m\u001b[39mproject\u001b[39m\u001b[39m\"\u001b[39m) \u001b[39mis\u001b[39;00m \u001b[39mNone\u001b[39;00m:\n\u001b[0;32m-> 1630\u001b[0m     \u001b[39mraise\u001b[39;00m \u001b[39mValueError\u001b[39;00m(\u001b[39m\"\u001b[39m\u001b[39mCould not find project \u001b[39m\u001b[39m%s\u001b[39;00m\u001b[39m\"\u001b[39m \u001b[39m%\u001b[39m \u001b[39mself\u001b[39m\u001b[39m.\u001b[39mproject)\n\u001b[1;32m   1631\u001b[0m \u001b[39mfor\u001b[39;00m run_response \u001b[39min\u001b[39;00m \u001b[39mself\u001b[39m\u001b[39m.\u001b[39mlast_response[\u001b[39m\"\u001b[39m\u001b[39mproject\u001b[39m\u001b[39m\"\u001b[39m][\u001b[39m\"\u001b[39m\u001b[39mruns\u001b[39m\u001b[39m\"\u001b[39m][\u001b[39m\"\u001b[39m\u001b[39medges\u001b[39m\u001b[39m\"\u001b[39m]:\n\u001b[1;32m   1632\u001b[0m     run \u001b[39m=\u001b[39m Run(\n\u001b[1;32m   1633\u001b[0m         \u001b[39mself\u001b[39m\u001b[39m.\u001b[39mclient,\n\u001b[1;32m   1634\u001b[0m         \u001b[39mself\u001b[39m\u001b[39m.\u001b[39mentity,\n\u001b[0;32m   (...)\u001b[0m\n\u001b[1;32m   1638\u001b[0m         include_sweeps\u001b[39m=\u001b[39m\u001b[39mself\u001b[39m\u001b[39m.\u001b[39m_include_sweeps,\n\u001b[1;32m   1639\u001b[0m     )\n",
      "\u001b[0;31mValueError\u001b[0m: Could not find project pert_gnn_simulation_adamson2016"
     ]
    }
   ],
   "source": [
    "import pandas as pd\n",
    "import seaborn as sns\n",
    "import matplotlib.pyplot as plt\n",
    "import wandb\n",
    "import numpy as np\n",
    "import seaborn as sns\n",
    "import matplotlib.pyplot as plt\n",
    "\n",
    "from matplotlib import font_manager\n",
    "\n",
    "font_dirs = [\"./\"]\n",
    "font_files = font_manager.findSystemFonts(fontpaths=font_dirs)\n",
    "\n",
    "for font_file in font_files:\n",
    "    font_manager.fontManager.addfont(font_file)\n",
    "    \n",
    "sns.set( font = \"Helvetica\" )\n",
    "\n",
    "api = wandb.Api()\n",
    "\n",
    "data_name = 'adamson2016'\n",
    "\n",
    "# Project is specified by <entity/project-name> please replace it with your project name here:\n",
    "# Here's some wandb stdout which hopefully has the necessary info. \n",
    "# Need to go through and fish it out. \n",
    "# wandb: Currently logged in as: ekernf01. Use `wandb login --relogin` to force relogin\n",
    "# wandb: Run data is saved locally in /home/ekernf01/Desktop/jhu/research/projects/perturbation_prediction/cell_type_knowledge_transfer/gears_misc/paper/wandb/run-20230505_111209-9izz07mx\n",
    "# wandb: Syncing run gears_seed1\n",
    "# wandb: ⭐️ View project at https://wandb.ai/ekernf01/norman2019\n",
    "# wandb: 🚀 View run at https://wandb.ai/ekernf01/norman2019/runs/9izz07mx\n",
    "runs = api.runs(\"kexinhuang/pert_gnn_simulation_\" + data_name)\n",
    "\n",
    "summary_list, config_list, name_list = [], [], []\n",
    "for run in runs: \n",
    "    # .summary contains the output keys/values for metrics like accuracy.\n",
    "    #  We call ._json_dict to omit large files \n",
    "    summary_list.append(run.summary._json_dict)\n",
    "\n",
    "    # .config contains the hyperparameters.\n",
    "    #  We remove special values that start with _.\n",
    "    config_list.append(\n",
    "        {k: v for k,v in run.config.items()\n",
    "          if not k.startswith('_')})\n",
    "\n",
    "    # .name is the human-readable name of the run.\n",
    "    name_list.append(run.name)\n",
    "\n",
    "runs_df = pd.DataFrame({\n",
    "    \"summary\": summary_list,\n",
    "    \"config\": config_list,\n",
    "    \"name\": name_list\n",
    "    })"
   ]
  },
  {
   "cell_type": "code",
   "execution_count": 19,
   "id": "a955791e",
   "metadata": {},
   "outputs": [],
   "source": [
    "run = 6\n",
    "cpa_runs = ['CPA_' + str(i) for i in range(1, run)]\n",
    "pertnet_runs = ['PertNet_API_Seed' + str(i) for i in range(1, run)]\n",
    "no_perturb_runs = ['No_Perturb_' + str(i) for i in range(1, run)]\n",
    "linear_runs = ['Linear_' + str(i) for i in range(1, run)]"
   ]
  },
  {
   "cell_type": "code",
   "execution_count": 20,
   "id": "c9477002",
   "metadata": {},
   "outputs": [],
   "source": [
    "res_df = runs_df[runs_df.name.isin(cpa_runs + pertnet_runs + no_perturb_runs + linear_runs)]"
   ]
  },
  {
   "cell_type": "code",
   "execution_count": 21,
   "id": "c6e1ac0a",
   "metadata": {},
   "outputs": [],
   "source": [
    "def normalize_name(x):\n",
    "    if x in cpa_runs:\n",
    "        return 'CPA'\n",
    "    elif x in pertnet_runs:\n",
    "        return 'GEARS'\n",
    "    elif x in linear_runs:\n",
    "        return 'Linear'\n",
    "    else:\n",
    "        return 'No-Perturb'"
   ]
  },
  {
   "cell_type": "code",
   "execution_count": 22,
   "id": "86b2e29d",
   "metadata": {},
   "outputs": [],
   "source": [
    "metrics = ['test_mse_top20_de_non_dropout', 'test_pearson_delta']\n",
    "metrics_name_map = {'test_mse_top20_de_non_dropout': 'Top 20 DE MSE',\n",
    "                   'test_pearson_delta': 'Pearson Correlation Across All Genes'}\n",
    "out = {}\n",
    "out['method'] = [normalize_name(i) for i in res_df.name.values]\n",
    "for m in metrics:\n",
    "    out[metrics_name_map[m]] = res_df.summary.apply(lambda x: x[m])\n",
    "out = pd.DataFrame(out)"
   ]
  },
  {
   "cell_type": "code",
   "execution_count": 23,
   "id": "771a685a",
   "metadata": {},
   "outputs": [],
   "source": [
    "color_pal = {\n",
    "'Linear': (0.9058823529411765, 0.5411764705882353, 0.7647058823529411),\n",
    "'CPA': (0.4, 0.7607843137254902, 0.6470588235294118),\n",
    "'GEARS': (0.9882352941176471, 0.5529411764705883, 0.3843137254901961),\n",
    "'No-Perturb': (0.7019607843137254, 0.7019607843137254, 0.7019607843137254)}"
   ]
  },
  {
   "cell_type": "code",
   "execution_count": 24,
   "id": "7e795254",
   "metadata": {},
   "outputs": [],
   "source": [
    "pal_order = [color_pal[i] for i in pd.DataFrame(out).method.unique()]"
   ]
  },
  {
   "cell_type": "code",
   "execution_count": 25,
   "id": "75fb17e5",
   "metadata": {},
   "outputs": [],
   "source": [
    "import numpy as np\n",
    "normalize = np.mean(out[out.method == 'No-Perturb']['Top 20 DE MSE'])\n",
    "out['Normalized MSE of Top 20 DE Genes'] = out['Top 20 DE MSE'].values/normalize"
   ]
  },
  {
   "cell_type": "code",
   "execution_count": 26,
   "id": "6f56e52c",
   "metadata": {},
   "outputs": [
    {
     "data": {
      "image/png": "[encoded data removed]",
      "text/plain": [
       "<Figure size 252x432 with 1 Axes>"
      ]
     },
     "metadata": {},
     "output_type": "display_data"
    }
   ],
   "source": [
    "sns.set(rc={'figure.figsize':(3.5,6)})\n",
    "sns.set_theme(style=\"ticks\", rc={\"axes.facecolor\": (0, 0, 0, 0)}, font = \"Helvetica\", font_scale=1.8)\n",
    "\n",
    "g = sns.pointplot('method', 'Normalized MSE of Top 20 DE Genes', \n",
    "    data=pd.DataFrame(out), \n",
    "    order = ['Linear','CPA', 'GEARS'], \n",
    "    hue = 'method',\n",
    "    palette=[color_pal['Linear'], color_pal['CPA'], color_pal['GEARS']],              \n",
    "    dodge=True, \n",
    "    join=False,\n",
    "    hue_order = ['Linear', 'CPA', 'GEARS'])\n",
    "sns.despine()\n",
    "g.legend_.remove()\n",
    "g.set(xlabel=None)\n",
    "g.axhline(1, linestyle=\"dashed\")\n",
    "\n",
    "plt.ylabel(\"Normalized MSE of Top 20 DE Genes\",labelpad=10)\n",
    "plt.tick_params(axis='x', which='major', pad=10)\n",
    "plt.tick_params(axis='y', which='major', pad=5)\n",
    "#g.spines['left'].set_linewidth(0.8)\n",
    "#g.spines['bottom'].set_linewidth(0.8)\n",
    "plt.savefig('output_' + data_name + '.pdf', bbox_inches='tight')\n"
   ]
  },
  {
   "cell_type": "code",
   "execution_count": null,
   "id": "50efc540",
   "metadata": {},
   "outputs": [],
   "source": []
  }
 ],
 "metadata": {
  "kernelspec": {
   "display_name": "Python 3",
   "language": "python",
   "name": "python3"
  },
  "language_info": {
   "codemirror_mode": {
    "name": "ipython",
    "version": 3
   },
   "file_extension": ".py",
   "mimetype": "text/x-python",
   "name": "python",
   "nbconvert_exporter": "python",
   "pygments_lexer": "ipython3",
   "version": "3.9.16"
  }
 },
 "nbformat": 4,
 "nbformat_minor": 5
}
