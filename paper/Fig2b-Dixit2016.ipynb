{
 "cells": [
  {
   "cell_type": "code",
   "execution_count": 4,
   "id": "70961cf4",
   "metadata": {},
   "outputs": [
    {
     "name": "stdout",
     "output_type": "stream",
     "text": [
      "<Runs ekernf01/None>\n"
     ]
    }
   ],
   "source": [
    "import pandas as pd\n",
    "import seaborn as sns\n",
    "import wandb\n",
    "import numpy as np\n",
    "import seaborn as sns\n",
    "import matplotlib.pyplot as plt\n",
    "\n",
    "from matplotlib import font_manager\n",
    "\n",
    "font_dirs = [\"./\"]\n",
    "font_files = font_manager.findSystemFonts(fontpaths=font_dirs)\n",
    "\n",
    "for font_file in font_files:\n",
    "    font_manager.fontManager.addfont(font_file)\n",
    "    \n",
    "sns.set( font = \"Helvetica\" )\n",
    "api = wandb.Api()\n",
    "data_name = 'dixit2016'\n",
    "api.create_project(entity = \"ekernf01\", name = \"pert_gnn_simulation_\" + data_name)\n",
    "api.create_run(entity = \"ekernf01\", project = \"pert_gnn_simulation_\" + data_name)\n",
    "print(api.runs())\n",
    "# Project is specified by <entity/project-name> please replace it with your project name here:\n",
    "runs = api.runs(\"ekernf01/pert_gnn_simulation_\" + data_name)\n",
    "\n",
    "summary_list, config_list, name_list = [], [], []\n",
    "for run in runs: \n",
    "    # .summary contains the output keys/values for metrics like accuracy.\n",
    "    #  We call ._json_dict to omit large files \n",
    "    summary_list.append(run.summary._json_dict)\n",
    "\n",
    "    # .config contains the hyperparameters.\n",
    "    #  We remove special values that start with _.\n",
    "    config_list.append(\n",
    "        {k: v for k,v in run.config.items()\n",
    "          if not k.startswith('_')})\n",
    "\n",
    "    # .name is the human-readable name of the run.\n",
    "    name_list.append(run.name)\n",
    "\n",
    "runs_df = pd.DataFrame({\n",
    "    \"summary\": summary_list,\n",
    "    \"config\": config_list,\n",
    "    \"name\": name_list\n",
    "    })"
   ]
  },
  {
   "cell_type": "code",
   "execution_count": 5,
   "id": "a955791e",
   "metadata": {},
   "outputs": [],
   "source": [
    "run = 6\n",
    "cpa_runs = ['CPA_' + str(i) for i in range(1, run)]\n",
    "pertnet_runs = ['PertNet_API_Seed' + str(i) for i in range(1, run)]\n",
    "no_perturb_runs = ['No_Perturb_' + str(i) for i in range(1, run)]\n",
    "linear_runs = ['Linear_' + str(i) for i in range(1, run)]"
   ]
  },
  {
   "cell_type": "code",
   "execution_count": 6,
   "id": "c9477002",
   "metadata": {},
   "outputs": [],
   "source": [
    "res_df = runs_df[runs_df.name.isin(cpa_runs + pertnet_runs + no_perturb_runs + linear_runs)]"
   ]
  },
  {
   "cell_type": "code",
   "execution_count": 7,
   "id": "c6e1ac0a",
   "metadata": {},
   "outputs": [],
   "source": [
    "def normalize_name(x):\n",
    "    if x in cpa_runs:\n",
    "        return 'CPA'\n",
    "    elif x in pertnet_runs:\n",
    "        return 'GEARS'\n",
    "    elif x in linear_runs:\n",
    "        return 'Linear'\n",
    "    else:\n",
    "        return 'No-Perturb'"
   ]
  },
  {
   "cell_type": "code",
   "execution_count": 8,
   "id": "86b2e29d",
   "metadata": {},
   "outputs": [],
   "source": [
    "metrics = ['test_mse_top20_de_non_dropout', 'test_pearson_delta']\n",
    "metrics_name_map = {'test_mse_top20_de_non_dropout': 'Top 20 DE MSE',\n",
    "                   'test_pearson_delta': 'Pearson Correlation Across All Genes'}\n",
    "out = {}\n",
    "out['method'] = [normalize_name(i) for i in res_df.name.values]\n",
    "for m in metrics:\n",
    "    out[metrics_name_map[m]] = res_df.summary.apply(lambda x: x[m])\n",
    "out = pd.DataFrame(out)"
   ]
  },
  {
   "cell_type": "code",
   "execution_count": 9,
   "id": "771a685a",
   "metadata": {},
   "outputs": [],
   "source": [
    "color_pal = {\n",
    "'Linear': (0.9058823529411765, 0.5411764705882353, 0.7647058823529411),\n",
    "'CPA': (0.4, 0.7607843137254902, 0.6470588235294118),\n",
    "'GEARS': (0.9882352941176471, 0.5529411764705883, 0.3843137254901961),\n",
    "'No-Perturb': (0.7019607843137254, 0.7019607843137254, 0.7019607843137254)}"
   ]
  },
  {
   "cell_type": "code",
   "execution_count": 10,
   "id": "7e795254",
   "metadata": {},
   "outputs": [],
   "source": [
    "pal_order = [color_pal[i] for i in pd.DataFrame(out).method.unique()]"
   ]
  },
  {
   "cell_type": "code",
   "execution_count": 11,
   "id": "75fb17e5",
   "metadata": {},
   "outputs": [],
   "source": [
    "import numpy as np\n",
    "normalize = np.mean(out[out.method == 'No-Perturb']['Top 20 DE MSE'])\n",
    "out['Normalized MSE of Top 20 DE Genes'] = out['Top 20 DE MSE'].values/normalize"
   ]
  },
  {
   "cell_type": "code",
   "execution_count": 12,
   "id": "6f56e52c",
   "metadata": {},
   "outputs": [
    {
     "ename": "TypeError",
     "evalue": "pointplot() got multiple values for argument 'data'",
     "output_type": "error",
     "traceback": [
      "\u001b[0;31m---------------------------------------------------------------------------\u001b[0m",
      "\u001b[0;31mTypeError\u001b[0m                                 Traceback (most recent call last)",
      "Cell \u001b[0;32mIn[12], line 4\u001b[0m\n\u001b[1;32m      1\u001b[0m sns\u001b[39m.\u001b[39mset(rc\u001b[39m=\u001b[39m{\u001b[39m'\u001b[39m\u001b[39mfigure.figsize\u001b[39m\u001b[39m'\u001b[39m:(\u001b[39m3.5\u001b[39m,\u001b[39m6\u001b[39m)})\n\u001b[1;32m      2\u001b[0m sns\u001b[39m.\u001b[39mset_theme(style\u001b[39m=\u001b[39m\u001b[39m\"\u001b[39m\u001b[39mticks\u001b[39m\u001b[39m\"\u001b[39m, rc\u001b[39m=\u001b[39m{\u001b[39m\"\u001b[39m\u001b[39maxes.facecolor\u001b[39m\u001b[39m\"\u001b[39m: (\u001b[39m0\u001b[39m, \u001b[39m0\u001b[39m, \u001b[39m0\u001b[39m, \u001b[39m0\u001b[39m)}, font \u001b[39m=\u001b[39m \u001b[39m\"\u001b[39m\u001b[39mHelvetica\u001b[39m\u001b[39m\"\u001b[39m, font_scale\u001b[39m=\u001b[39m\u001b[39m1.8\u001b[39m)\n\u001b[0;32m----> 4\u001b[0m g \u001b[39m=\u001b[39m sns\u001b[39m.\u001b[39;49mpointplot(\u001b[39m'\u001b[39;49m\u001b[39mmethod\u001b[39;49m\u001b[39m'\u001b[39;49m, \u001b[39m'\u001b[39;49m\u001b[39mNormalized MSE of Top 20 DE Genes\u001b[39;49m\u001b[39m'\u001b[39;49m, \n\u001b[1;32m      5\u001b[0m     data\u001b[39m=\u001b[39;49mpd\u001b[39m.\u001b[39;49mDataFrame(out), \n\u001b[1;32m      6\u001b[0m     order \u001b[39m=\u001b[39;49m [\u001b[39m'\u001b[39;49m\u001b[39mLinear\u001b[39;49m\u001b[39m'\u001b[39;49m,\u001b[39m'\u001b[39;49m\u001b[39mCPA\u001b[39;49m\u001b[39m'\u001b[39;49m, \u001b[39m'\u001b[39;49m\u001b[39mGEARS\u001b[39;49m\u001b[39m'\u001b[39;49m], \n\u001b[1;32m      7\u001b[0m     hue \u001b[39m=\u001b[39;49m \u001b[39m'\u001b[39;49m\u001b[39mmethod\u001b[39;49m\u001b[39m'\u001b[39;49m,\n\u001b[1;32m      8\u001b[0m     palette\u001b[39m=\u001b[39;49m[color_pal[\u001b[39m'\u001b[39;49m\u001b[39mLinear\u001b[39;49m\u001b[39m'\u001b[39;49m], color_pal[\u001b[39m'\u001b[39;49m\u001b[39mCPA\u001b[39;49m\u001b[39m'\u001b[39;49m], color_pal[\u001b[39m'\u001b[39;49m\u001b[39mGEARS\u001b[39;49m\u001b[39m'\u001b[39;49m]],              \n\u001b[1;32m      9\u001b[0m     dodge\u001b[39m=\u001b[39;49m\u001b[39mTrue\u001b[39;49;00m, \n\u001b[1;32m     10\u001b[0m     join\u001b[39m=\u001b[39;49m\u001b[39mFalse\u001b[39;49;00m,\n\u001b[1;32m     11\u001b[0m     hue_order \u001b[39m=\u001b[39;49m [\u001b[39m'\u001b[39;49m\u001b[39mLinear\u001b[39;49m\u001b[39m'\u001b[39;49m, \u001b[39m'\u001b[39;49m\u001b[39mCPA\u001b[39;49m\u001b[39m'\u001b[39;49m, \u001b[39m'\u001b[39;49m\u001b[39mGEARS\u001b[39;49m\u001b[39m'\u001b[39;49m])\n\u001b[1;32m     12\u001b[0m sns\u001b[39m.\u001b[39mdespine()\n\u001b[1;32m     13\u001b[0m g\u001b[39m.\u001b[39mlegend_\u001b[39m.\u001b[39mremove()\n",
      "\u001b[0;31mTypeError\u001b[0m: pointplot() got multiple values for argument 'data'"
     ]
    }
   ],
   "source": [
    "sns.set(rc={'figure.figsize':(3.5,6)})\n",
    "sns.set_theme(style=\"ticks\", rc={\"axes.facecolor\": (0, 0, 0, 0)}, font = \"Helvetica\", font_scale=1.8)\n",
    "\n",
    "g = sns.pointplot('method', 'Normalized MSE of Top 20 DE Genes', \n",
    "    data=pd.DataFrame(out), \n",
    "    order = ['Linear','CPA', 'GEARS'], \n",
    "    hue = 'method',\n",
    "    palette=[color_pal['Linear'], color_pal['CPA'], color_pal['GEARS']],              \n",
    "    dodge=True, \n",
    "    join=False,\n",
    "    hue_order = ['Linear', 'CPA', 'GEARS'])\n",
    "sns.despine()\n",
    "g.legend_.remove()\n",
    "g.set(xlabel=None)\n",
    "g.axhline(1, linestyle=\"dashed\")\n",
    "\n",
    "plt.ylabel(\"Normalized MSE of Top 20 DE Genes\",labelpad=10)\n",
    "plt.tick_params(axis='x', which='major', pad=10)\n",
    "plt.tick_params(axis='y', which='major', pad=5)\n",
    "#g.spines['left'].set_linewidth(0.8)\n",
    "#g.spines['bottom'].set_linewidth(0.8)\n",
    "plt.savefig('output_' + data_name + '.pdf', bbox_inches='tight')\n"
   ]
  },
  {
   "cell_type": "code",
   "execution_count": null,
   "id": "50efc540",
   "metadata": {},
   "outputs": [],
   "source": []
  },
  {
   "cell_type": "code",
   "execution_count": null,
   "id": "8be71d3c",
   "metadata": {},
   "outputs": [],
   "source": []
  }
 ],
 "metadata": {
  "kernelspec": {
   "display_name": "Python 3",
   "language": "python",
   "name": "python3"
  },
  "language_info": {
   "codemirror_mode": {
    "name": "ipython",
    "version": 3
   },
   "file_extension": ".py",
   "mimetype": "text/x-python",
   "name": "python",
   "nbconvert_exporter": "python",
   "pygments_lexer": "ipython3",
   "version": "3.9.16"
  }
 },
 "nbformat": 4,
 "nbformat_minor": 5
}
